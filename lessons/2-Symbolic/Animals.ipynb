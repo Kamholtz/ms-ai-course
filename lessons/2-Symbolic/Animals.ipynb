{
 "cells": [
  {
   "cell_type": "code",
   "execution_count": null,
   "metadata": {},
   "outputs": [],
   "source": [
    "def has_choice_with_gt_1_result(choices):\n",
    "    return max([len(x) for x in choices])\n",
    "\n",
    "def print_choices_with_number(choices):\n",
    "    for i, x in enumerate(choices):\n",
    "        print(\"{0}. {1}\".format(i, x), flush=True)\n",
    "\n",
    "def ask_for_int():\n",
    "    int(input())\n",
    "\n",
    "def ask_for_char(): input()\n",
    "\n",
    "class Ask():\n",
    "    def __init__(self, choices=['y', 'n']):\n",
    "        self.choices = choices\n",
    "    def ask(self):\n",
    "        if has_choice_with_gt_1_result(self.choices):\n",
    "            print_choices_with_number()\n",
    "            ask_res = ask_for_int()\n",
    "            return self.choices[ask_res]\n",
    "        else:\n",
    "            print(\"/\".join(self.choices), flush=True)\n",
    "            return ask_for_char\n",
    "\n",
    "\n",
    "class Content():\n",
    "    def __init__(self,x):\n",
    "        self.x = x\n",
    "\n",
    "class If(Content):\n",
    "    pass\n",
    "\n",
    "class AND(Content):\n",
    "    pass\n",
    "\n",
    "class OR(Content):\n",
    "    pass"
   ]
  },
  {
   "cell_type": "code",
   "execution_count": null,
   "metadata": {},
   "outputs": [],
   "source": [
    "rules = {\n",
    "    'default': Ask(['y','n']),\n",
    "    'color' : Ask(['red-brown','black and white','other']),\n",
    "    'pattern' : Ask(['dark stripes','dark spots']),\n",
    "    'mammal': If(OR(['hair','gives milk'])),\n",
    "    'carnivor': If(OR([AND(['sharp teeth','claws','forward-looking eyes']),'eats meat'])),\n",
    "    'ungulate': If(['mammal',OR(['has hooves','chews cud'])]),\n",
    "    'bird': If(OR(['feathers',AND(['flies','lies eggs'])])),\n",
    "    'animal:monkey' : If(['mammal','carnivor','color:red-brown','pattern:dark spots']),\n",
    "    'animal:tiger' : If(['mammal','carnivor','color:red-brown','pattern:dark stripes']),\n",
    "    'animal:giraffe' : If(['ungulate','long neck','long legs','pattern:dark spots']),\n",
    "    'animal:zebra' : If(['ungulate','pattern:dark stripes']),\n",
    "    'animal:ostrich' : If(['bird','long nech','color:black and white','cannot fly']),\n",
    "    'animal:pinguin' : If(['bird','swims','color:black and white','cannot fly']),\n",
    "    'animal:albatross' : If(['bird','flies well'])\n",
    "}\n"
   ]
  }
 ],
 "metadata": {
  "language_info": {
   "name": "python"
  }
 },
 "nbformat": 4,
 "nbformat_minor": 2
}
