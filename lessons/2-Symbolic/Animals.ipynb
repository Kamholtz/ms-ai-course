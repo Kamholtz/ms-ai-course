{
 "cells": [
  {
   "cell_type": "code",
   "execution_count": 7,
   "metadata": {},
   "outputs": [],
   "source": [
    "import abc\n",
    "\n",
    "def test_has_choice_with_length_gt_1(choices):\n",
    "    return max([len(x) for x in choices]) > 1\n",
    "\n",
    "def print_choices_with_number(choices):\n",
    "    for i, x in enumerate(choices):\n",
    "        print(\"{0}. {1}\".format(i, x), flush=True)\n",
    "\n",
    "\n",
    "class AskStrategy(abc.ABC):\n",
    "    @abc.abstractmethod\n",
    "    def ask_for_int(): pass\n",
    "\n",
    "    @abc.abstractmethod\n",
    "    def ask_for_char(): pass\n",
    "\n",
    "\n",
    "def ask_for_int():\n",
    "    return int(input())\n",
    "def ask_for_char():\n",
    "    return input()\n",
    "\n",
    "class StdinAskStrategy(AskStrategy):\n",
    "    def ask_for_int(self):\n",
    "        return ask_for_int()\n",
    "    def ask_for_char(self):\n",
    "        return ask_for_char()\n",
    "\n",
    "\n",
    "class Ask():\n",
    "    def __init__(self, choices=['y', 'n'], ask_strategy=StdinAskStrategy()):\n",
    "        self.choices = choices\n",
    "        self.ask_strategy = ask_strategy\n",
    "    def ask(self):\n",
    "        if test_has_choice_with_length_gt_1(self.choices):\n",
    "            print_choices_with_number(self.choices)\n",
    "            ask_res = self.ask_strategy.ask_for_int()\n",
    "            return self.choices[ask_res]\n",
    "        else:\n",
    "            print(\"/\".join(self.choices), flush=True)\n",
    "            return self.ask_strategy.ask_for_char()\n",
    "\n",
    "\n",
    "class Content():\n",
    "    def __init__(self,x):\n",
    "        self.x = x\n",
    "\n",
    "class If(Content):\n",
    "    pass\n",
    "\n",
    "class AND(Content):\n",
    "    pass\n",
    "\n",
    "class OR(Content):\n",
    "    pass"
   ]
  },
  {
   "cell_type": "code",
   "execution_count": 8,
   "metadata": {},
   "outputs": [
    {
     "name": "stderr",
     "output_type": "stream",
     "text": [
      "test_has_choice_with_length_gt_1 (__main__.TestAsk) ... ok\n",
      "test_has_choice_with_length_gt_1_false (__main__.TestAsk) ... ok\n",
      "\n",
      "----------------------------------------------------------------------\n",
      "Ran 2 tests in 0.005s\n",
      "\n",
      "OK\n"
     ]
    },
    {
     "data": {
      "text/plain": [
       "<unittest.main.TestProgram at 0x246fa0fb670>"
      ]
     },
     "execution_count": 8,
     "metadata": {},
     "output_type": "execute_result"
    }
   ],
   "source": [
    "import unittest\n",
    "\n",
    "# class MockAskStrategy(AskStrategy):\n",
    "#     def ask_for_char():\n",
    "#         return ()\n",
    "\n",
    "class TestAsk(unittest.TestCase):\n",
    "    def test_has_choice_with_length_gt_1(self):\n",
    "        self.assertEqual(test_has_choice_with_length_gt_1(['abc', 'def']), True)\n",
    "\n",
    "    def test_has_choice_with_length_gt_1_false(self):\n",
    "        self.assertEqual(test_has_choice_with_length_gt_1(['y', 'n']), False)\n",
    "\n",
    "unittest.main(argv=[''], verbosity=2, exit=False)"
   ]
  },
  {
   "cell_type": "code",
   "execution_count": 9,
   "metadata": {},
   "outputs": [],
   "source": [
    "rules = {\n",
    "    'default': Ask(['y','n']),\n",
    "    'color' : Ask(['red-brown','black and white','other']),\n",
    "    'pattern' : Ask(['dark stripes','dark spots']),\n",
    "    'mammal': If(OR(['hair','gives milk'])),\n",
    "    'carnivor': If(OR([AND(['sharp teeth','claws','forward-looking eyes']),'eats meat'])),\n",
    "    'ungulate': If(['mammal',OR(['has hooves','chews cud'])]),\n",
    "    'bird': If(OR(['feathers',AND(['flys','lays eggs'])])),\n",
    "    'animal:monkey' : If(['mammal','carnivor','color:red-brown','pattern:dark spots']),\n",
    "    'animal:tiger' : If(['mammal','carnivor','color:red-brown','pattern:dark stripes']),\n",
    "    'animal:giraffe' : If(['ungulate','long neck','long legs','pattern:dark spots']),\n",
    "    'animal:zebra' : If(['ungulate','pattern:dark stripes']),\n",
    "    'animal:ostrich' : If(['bird','long neck','color:black and white','cannot fly']),\n",
    "    'animal:pinguin' : If(['bird','swims','color:black and white','cannot fly']),\n",
    "    'animal:albatross' : If(['bird','flys well'])\n",
    "}"
   ]
  },
  {
   "cell_type": "code",
   "execution_count": null,
   "metadata": {},
   "outputs": [],
   "source": []
  },
  {
   "cell_type": "code",
   "execution_count": 10,
   "metadata": {},
   "outputs": [],
   "source": [
    "def get_from_memory(name, memory):\n",
    "    found = (name in memory)\n",
    "    return (found,  memory[name] if found else None)\n",
    "\n",
    "def get_AND_of_exprs(expr, eval):\n",
    "    ## get list out\n",
    "    expr_list = expr.x if isinstance(expr,AND) else expr\n",
    "    all_y = all(eval(x) == 'y' for x in expr_list)\n",
    "    return 'y' if all_y else 'n'\n",
    "\n",
    "def get_OR_of_exprs(expr, eval):\n",
    "    ## get list out\n",
    "    expr_list = expr.x\n",
    "    any_y = any(eval(x) == 'y' for x in expr_list)\n",
    "    return 'y' if any_y else 'n'\n",
    "\n",
    "def get_rule_true_value(name, rule_attr):\n",
    "    # attr:expected_value expresses that we want to (1) get the value of `attr` and compare it to `expected_value`\n",
    "    # Returns `y` when they are equal, else `n`\n",
    "    return 'y' if rule_attr==name else rule_attr.split(':')[1]\n",
    "\n",
    "\n",
    "class KnowledgeBase():\n",
    "    def __init__(self, rules):\n",
    "        self.rules = rules\n",
    "        self.memory = {}\n",
    "\n",
    "    def get(self, rule_attr_in):\n",
    "        if ':' in rule_attr_in:\n",
    "            rule_A, rule_V = rule_attr_in.split(':')\n",
    "            eval_V = self.get(rule_A) # descend\n",
    "            # check that the `value`` from attr:`value` is equal to the eval'd value\n",
    "            return 'y' if rule_V==eval_V else 'n'\n",
    "\n",
    "        # Memory\n",
    "        found,in_memory_result = get_from_memory(rule_attr_in, self.memory)\n",
    "        if found: return in_memory_result\n",
    "\n",
    "        # Try each rule\n",
    "        for rule_A in self.rules.keys():\n",
    "            if rule_A==rule_attr_in or rule_A.startswith(rule_attr_in+\":\"):\n",
    "                value_when_true = get_rule_true_value(rule_attr_in, rule_A)\n",
    "                eval_res = self.eval(self.rules[rule_A], field=rule_attr_in)\n",
    "\n",
    "                if eval_res != 'y' and eval_res != 'n' and value_when_true =='y':\n",
    "                    self.memory[rule_attr_in] = eval_res\n",
    "                    return eval_res\n",
    "                if eval_res == 'y':\n",
    "                    self.memory[rule_attr_in] = value_when_true\n",
    "                    return value_when_true\n",
    "\n",
    "        # field is not found, using default\n",
    "        res = self.eval(self.rules['default'],field=rule_attr_in)\n",
    "        self.memory[rule_attr_in]=res\n",
    "        return res\n",
    "\n",
    "\n",
    "    def eval(self, expr, field=None):\n",
    "        # print(\" + eval {}\".format(expr))\n",
    "        if isinstance(expr, Ask): # ASK\n",
    "            print(field)\n",
    "            return expr.ask()\n",
    "        elif isinstance(expr, If): # IF\n",
    "            return self.eval(expr.x)\n",
    "        elif isinstance(expr, AND) or isinstance(expr, list):\n",
    "            return get_AND_of_exprs(expr, self.eval)\n",
    "        elif isinstance(expr,OR):\n",
    "            return get_OR_of_exprs(expr, self.eval)\n",
    "        elif isinstance(expr,str):\n",
    "            return self.get(expr)\n",
    "        else:\n",
    "            print(\"Unknown expr: {}\".format(expr))"
   ]
  },
  {
   "cell_type": "code",
   "execution_count": 11,
   "metadata": {},
   "outputs": [
    {
     "name": "stderr",
     "output_type": "stream",
     "text": [
      "test_get_AND_of_exprs (__main__.TestAsk) ... ok\n",
      "test_get_AND_of_exprs_n (__main__.TestAsk) ... ok\n",
      "test_get_OR_of_exprs (__main__.TestAsk) ... ok\n",
      "test_get_OR_of_exprs_n (__main__.TestAsk) ... ok\n",
      "test_get_from_memory (__main__.TestAsk) ... ok\n",
      "test_get_from_memory_not_found (__main__.TestAsk) ... ok\n",
      "\n",
      "----------------------------------------------------------------------\n",
      "Ran 6 tests in 0.011s\n",
      "\n",
      "OK\n"
     ]
    },
    {
     "data": {
      "text/plain": [
       "<unittest.main.TestProgram at 0x246fa070df0>"
      ]
     },
     "execution_count": 11,
     "metadata": {},
     "output_type": "execute_result"
    }
   ],
   "source": [
    "import unittest\n",
    "\n",
    "class TestAsk(unittest.TestCase):\n",
    "    def test_get_from_memory(self):\n",
    "        self.assertEqual(get_from_memory(\"x\", {\"x\": \"Found it!\"}), (True, \"Found it!\"))\n",
    "    def test_get_from_memory_not_found(self):\n",
    "        self.assertEqual(get_from_memory(\"x\", {\"abc\": \"Found it!\"}), (False, None))\n",
    "    def test_get_AND_of_exprs(self):\n",
    "        self.assertEqual(get_AND_of_exprs(['y', 'y', 'y'], lambda x: x), 'y')\n",
    "    def test_get_AND_of_exprs_n(self):\n",
    "        self.assertEqual(get_AND_of_exprs(['y', 'n', 'y'], lambda x: x), 'n')\n",
    "    def test_get_OR_of_exprs(self):\n",
    "        self.assertEqual(get_OR_of_exprs(OR(['y', 'n', 'n']), lambda x: x), 'y')\n",
    "    def test_get_OR_of_exprs_n(self):\n",
    "        self.assertEqual(get_OR_of_exprs(OR(['n', 'n', 'n']), lambda x: x), 'n')\n",
    "\n",
    "\n",
    "unittest.main(argv=[''], verbosity=2, exit=False)"
   ]
  },
  {
   "cell_type": "code",
   "execution_count": 12,
   "metadata": {},
   "outputs": [
    {
     "name": "stdout",
     "output_type": "stream",
     "text": [
      "hair\n",
      "y/n\n",
      "sharp teeth\n",
      "y/n\n",
      "eats meat\n",
      "y/n\n",
      "carnivor\n",
      "y/n\n",
      "has hooves\n",
      "y/n\n",
      "chews cud\n",
      "y/n\n",
      "ungulate\n",
      "y/n\n",
      "feathers\n",
      "y/n\n",
      "flies\n",
      "y/n\n",
      "lies eggs\n",
      "y/n\n",
      "long nech\n",
      "y/n\n",
      "color\n",
      "0. red-brown\n",
      "1. black and white\n",
      "2. other\n",
      "swims\n",
      "y/n\n",
      "flies well\n",
      "y/n\n"
     ]
    },
    {
     "data": {
      "text/plain": [
       "'albatross'"
      ]
     },
     "execution_count": 12,
     "metadata": {},
     "output_type": "execute_result"
    }
   ],
   "source": [
    "kb = KnowledgeBase(rules)\n",
    "kb.get('animal')"
   ]
  }
 ],
 "metadata": {
  "kernelspec": {
   "display_name": "Python 3",
   "language": "python",
   "name": "python3"
  },
  "language_info": {
   "codemirror_mode": {
    "name": "ipython",
    "version": 3
   },
   "file_extension": ".py",
   "mimetype": "text/x-python",
   "name": "python",
   "nbconvert_exporter": "python",
   "pygments_lexer": "ipython3",
   "version": "3.10.4"
  }
 },
 "nbformat": 4,
 "nbformat_minor": 2
}
