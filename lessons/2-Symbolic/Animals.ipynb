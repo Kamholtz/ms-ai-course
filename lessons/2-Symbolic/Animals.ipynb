{
 "cells": [
  {
   "cell_type": "code",
   "execution_count": 15,
   "metadata": {},
   "outputs": [],
   "source": [
    "import abc\n",
    "\n",
    "def test_has_choice_with_length_gt_1(choices):\n",
    "    return max([len(x) for x in choices]) > 1\n",
    "\n",
    "def print_choices_with_number(choices):\n",
    "    for i, x in enumerate(choices):\n",
    "        print(\"{0}. {1}\".format(i, x), flush=True)\n",
    "\n",
    "\n",
    "class AskStrategy(abc.ABC):\n",
    "    @abc.abstractmethod\n",
    "    def ask_for_int(): pass\n",
    "\n",
    "    @abc.abstractmethod\n",
    "    def ask_for_char(): pass\n",
    "\n",
    "\n",
    "def ask_for_int():\n",
    "    return int(input())\n",
    "def ask_for_char():\n",
    "    return input()\n",
    "\n",
    "class StdinAskStrategy(AskStrategy):\n",
    "    def ask_for_int(self):\n",
    "        return ask_for_int()\n",
    "    def ask_for_char(self):\n",
    "        return ask_for_char()\n",
    "\n",
    "\n",
    "class Ask():\n",
    "    def __init__(self, choices=['y', 'n'], ask_strategy=StdinAskStrategy()):\n",
    "        self.choices = choices\n",
    "        self.ask_strategy = ask_strategy\n",
    "    def ask(self):\n",
    "        if test_has_choice_with_length_gt_1(self.choices):\n",
    "            print_choices_with_number(self.choices)\n",
    "            ask_res = self.ask_strategy.ask_for_int()\n",
    "            return self.choices[ask_res]\n",
    "        else:\n",
    "            print(\"/\".join(self.choices), flush=True)\n",
    "            return self.ask_strategy.ask_for_char()\n",
    "\n",
    "\n",
    "class Content():\n",
    "    def __init__(self,x):\n",
    "        self.x = x\n",
    "\n",
    "class If(Content):\n",
    "    pass\n",
    "\n",
    "class AND(Content):\n",
    "    pass\n",
    "\n",
    "class OR(Content):\n",
    "    pass"
   ]
  },
  {
   "cell_type": "code",
   "execution_count": 8,
   "metadata": {},
   "outputs": [
    {
     "name": "stderr",
     "output_type": "stream",
     "text": [
      "test_has_choice_with_length_gt_1 (__main__.TestAsk) ... ok\n",
      "test_has_choice_with_length_gt_1_false (__main__.TestAsk) ... ok\n",
      "\n",
      "----------------------------------------------------------------------\n",
      "Ran 2 tests in 0.005s\n",
      "\n",
      "OK\n"
     ]
    },
    {
     "data": {
      "text/plain": [
       "<unittest.main.TestProgram at 0x246fa0fb670>"
      ]
     },
     "execution_count": 8,
     "metadata": {},
     "output_type": "execute_result"
    }
   ],
   "source": [
    "import unittest\n",
    "\n",
    "# class MockAskStrategy(AskStrategy):\n",
    "#     def ask_for_char():\n",
    "#         return ()\n",
    "\n",
    "class TestAsk(unittest.TestCase):\n",
    "    def test_has_choice_with_length_gt_1(self):\n",
    "        self.assertEqual(test_has_choice_with_length_gt_1(['abc', 'def']), True)\n",
    "\n",
    "    def test_has_choice_with_length_gt_1_false(self):\n",
    "        self.assertEqual(test_has_choice_with_length_gt_1(['y', 'n']), False)\n",
    "\n",
    "unittest.main(argv=[''], verbosity=2, exit=False)"
   ]
  },
  {
   "cell_type": "code",
   "execution_count": 16,
   "metadata": {},
   "outputs": [],
   "source": [
    "rules = {\n",
    "    'default': Ask(['y','n']),\n",
    "    'color' : Ask(['red-brown','black and white','other']),\n",
    "    'pattern' : Ask(['dark stripes','dark spots']),\n",
    "    'mammal': If(OR(['hair','gives milk'])),\n",
    "    'carnivore': If(OR([AND(['sharp teeth','claws','forward-looking eyes']),'eats meat'])),\n",
    "    'ungulate': If(['mammal',OR(['has hooves','chews cud'])]),\n",
    "    'bird': If(OR(['feathers',AND(['flies','lays eggs'])])),\n",
    "    'animal:monkey' : If(['mammal','carnivore','color:red-brown','pattern:dark spots']),\n",
    "    'animal:tiger' : If(['mammal','carnivore','color:red-brown','pattern:dark stripes']),\n",
    "    'animal:giraffe' : If(['ungulate','long neck','long legs','pattern:dark spots']),\n",
    "    'animal:zebra' : If(['ungulate','pattern:dark stripes']),\n",
    "    'animal:ostrich' : If(['bird','long neck','color:black and white','cannot fly']),\n",
    "    'animal:pinguin' : If(['bird','swims','color:black and white','cannot fly']),\n",
    "    'animal:albatross' : If(['bird','flies well'])\n",
    "}"
   ]
  },
  {
   "cell_type": "code",
   "execution_count": 17,
   "metadata": {},
   "outputs": [],
   "source": [
    "def get_from_memory(name, memory):\n",
    "    found = (name in memory)\n",
    "    return (found,  memory[name] if found else None)\n",
    "\n",
    "def get_AND_of_exprs(expr, eval):\n",
    "    ## get list out\n",
    "    expr_list = expr.x if isinstance(expr,AND) else expr\n",
    "    all_y = all(eval(x) == 'y' for x in expr_list)\n",
    "    return 'y' if all_y else 'n'\n",
    "\n",
    "def get_OR_of_exprs(expr, eval):\n",
    "    ## get list out\n",
    "    expr_list = expr.x\n",
    "    any_y = any(eval(x) == 'y' for x in expr_list)\n",
    "    return 'y' if any_y else 'n'\n",
    "\n",
    "def get_rule_true_value(name, rule_attr):\n",
    "    # attr:expected_value expresses that we want to (1) get the value of `attr` and compare it to `expected_value`\n",
    "    # Returns `y` when they are equal, else `n`\n",
    "    return 'y' if rule_attr==name else rule_attr.split(':')[1]\n",
    "\n",
    "\n",
    "class KnowledgeBase():\n",
    "    def __init__(self, rules):\n",
    "        self.rules = rules\n",
    "        self.memory = {}\n",
    "\n",
    "    def get(self, rule_attr_in):\n",
    "        if ':' in rule_attr_in:\n",
    "            rule_A, rule_V = rule_attr_in.split(':')\n",
    "            eval_V = self.get(rule_A) # descend\n",
    "            # check that the `value`` from attr:`value` is equal to the eval'd value\n",
    "            return 'y' if rule_V==eval_V else 'n'\n",
    "\n",
    "        # Memory\n",
    "        found,in_memory_result = get_from_memory(rule_attr_in, self.memory)\n",
    "        if found: return in_memory_result\n",
    "\n",
    "        # Try each rule\n",
    "        for rule_A in self.rules.keys():\n",
    "            if rule_A==rule_attr_in or rule_A.startswith(rule_attr_in+\":\"):\n",
    "                value_when_true = get_rule_true_value(rule_attr_in, rule_A)\n",
    "                eval_res = self.eval(self.rules[rule_A], field=rule_attr_in)\n",
    "\n",
    "                if eval_res != 'y' and eval_res != 'n' and value_when_true =='y':\n",
    "                    self.memory[rule_attr_in] = eval_res\n",
    "                    return eval_res\n",
    "                if eval_res == 'y':\n",
    "                    self.memory[rule_attr_in] = value_when_true\n",
    "                    return value_when_true\n",
    "\n",
    "        # field is not found, using default\n",
    "        res = self.eval(self.rules['default'],field=rule_attr_in)\n",
    "        self.memory[rule_attr_in]=res\n",
    "        return res\n",
    "\n",
    "\n",
    "    def eval(self, expr, field=None):\n",
    "        # print(\" + eval {}\".format(expr))\n",
    "        if isinstance(expr, Ask): # ASK\n",
    "            print(field)\n",
    "            return expr.ask()\n",
    "        elif isinstance(expr, If): # IF\n",
    "            return self.eval(expr.x)\n",
    "        elif isinstance(expr, AND) or isinstance(expr, list):\n",
    "            return get_AND_of_exprs(expr, self.eval)\n",
    "        elif isinstance(expr,OR):\n",
    "            return get_OR_of_exprs(expr, self.eval)\n",
    "        elif isinstance(expr,str):\n",
    "            return self.get(expr)\n",
    "        else:\n",
    "            print(\"Unknown expr: {}\".format(expr))"
   ]
  },
  {
   "cell_type": "code",
   "execution_count": 11,
   "metadata": {},
   "outputs": [
    {
     "name": "stderr",
     "output_type": "stream",
     "text": [
      "test_get_AND_of_exprs (__main__.TestAsk) ... ok\n",
      "test_get_AND_of_exprs_n (__main__.TestAsk) ... ok\n",
      "test_get_OR_of_exprs (__main__.TestAsk) ... ok\n",
      "test_get_OR_of_exprs_n (__main__.TestAsk) ... ok\n",
      "test_get_from_memory (__main__.TestAsk) ... ok\n",
      "test_get_from_memory_not_found (__main__.TestAsk) ... ok\n",
      "\n",
      "----------------------------------------------------------------------\n",
      "Ran 6 tests in 0.011s\n",
      "\n",
      "OK\n"
     ]
    },
    {
     "data": {
      "text/plain": [
       "<unittest.main.TestProgram at 0x246fa070df0>"
      ]
     },
     "execution_count": 11,
     "metadata": {},
     "output_type": "execute_result"
    }
   ],
   "source": [
    "import unittest\n",
    "\n",
    "class TestAsk(unittest.TestCase):\n",
    "    def test_get_from_memory(self):\n",
    "        self.assertEqual(get_from_memory(\"x\", {\"x\": \"Found it!\"}), (True, \"Found it!\"))\n",
    "    def test_get_from_memory_not_found(self):\n",
    "        self.assertEqual(get_from_memory(\"x\", {\"abc\": \"Found it!\"}), (False, None))\n",
    "    def test_get_AND_of_exprs(self):\n",
    "        self.assertEqual(get_AND_of_exprs(['y', 'y', 'y'], lambda x: x), 'y')\n",
    "    def test_get_AND_of_exprs_n(self):\n",
    "        self.assertEqual(get_AND_of_exprs(['y', 'n', 'y'], lambda x: x), 'n')\n",
    "    def test_get_OR_of_exprs(self):\n",
    "        self.assertEqual(get_OR_of_exprs(OR(['y', 'n', 'n']), lambda x: x), 'y')\n",
    "    def test_get_OR_of_exprs_n(self):\n",
    "        self.assertEqual(get_OR_of_exprs(OR(['n', 'n', 'n']), lambda x: x), 'n')\n",
    "\n",
    "\n",
    "unittest.main(argv=[''], verbosity=2, exit=False)"
   ]
  },
  {
   "cell_type": "code",
   "execution_count": 12,
   "metadata": {},
   "outputs": [
    {
     "name": "stdout",
     "output_type": "stream",
     "text": [
      "hair\n",
      "y/n\n",
      "sharp teeth\n",
      "y/n\n",
      "eats meat\n",
      "y/n\n",
      "carnivor\n",
      "y/n\n",
      "has hooves\n",
      "y/n\n",
      "chews cud\n",
      "y/n\n",
      "ungulate\n",
      "y/n\n",
      "feathers\n",
      "y/n\n",
      "flies\n",
      "y/n\n",
      "lies eggs\n",
      "y/n\n",
      "long nech\n",
      "y/n\n",
      "color\n",
      "0. red-brown\n",
      "1. black and white\n",
      "2. other\n",
      "swims\n",
      "y/n\n",
      "flies well\n",
      "y/n\n"
     ]
    },
    {
     "data": {
      "text/plain": [
       "'albatross'"
      ]
     },
     "execution_count": 12,
     "metadata": {},
     "output_type": "execute_result"
    }
   ],
   "source": [
    "kb = KnowledgeBase(rules)\n",
    "kb.get('animal')"
   ]
  },
  {
   "cell_type": "code",
   "execution_count": 2,
   "metadata": {},
   "outputs": [
    {
     "name": "stdout",
     "output_type": "stream",
     "text": [
      "Collecting git+https://github.com/buguroo/pyknow/\n",
      "  Cloning https://github.com/buguroo/pyknow/ to c:\\users\\carlk\\appdata\\local\\temp\\pip-req-build-b7b65c91"
     ]
    },
    {
     "name": "stderr",
     "output_type": "stream",
     "text": [
      "  Running command git clone -q https://github.com/buguroo/pyknow/ 'C:\\Users\\carlk\\AppData\\Local\\Temp\\pip-req-build-b7b65c91'\n"
     ]
    },
    {
     "name": "stdout",
     "output_type": "stream",
     "text": [
      "\n",
      "Collecting frozendict==1.2\n",
      "  Using cached frozendict-1.2.tar.gz (2.6 kB)\n",
      "Collecting schema==0.6.7\n",
      "  Using cached schema-0.6.7-py2.py3-none-any.whl (14 kB)\n",
      "Building wheels for collected packages: pyknow, frozendict\n",
      "  Building wheel for pyknow (setup.py): started\n",
      "  Building wheel for pyknow (setup.py): finished with status 'done'\n",
      "  Created wheel for pyknow: filename=pyknow-1.7.0-py3-none-any.whl size=34607 sha256=986f570449c46b532c51451bf38c2af1df3b910a95826a7475bc72635826e31f\n",
      "  Stored in directory: C:\\Users\\carlk\\AppData\\Local\\Temp\\pip-ephem-wheel-cache-vu_9jsq3\\wheels\\83\\1a\\5a\\662134cfe4e4c48dc95286cb484685e55ab4c98f4ada37dfe7\n",
      "  Building wheel for frozendict (setup.py): started\n",
      "  Building wheel for frozendict (setup.py): finished with status 'done'\n",
      "  Created wheel for frozendict: filename=frozendict-1.2-py3-none-any.whl size=3184 sha256=8265a6f7165dcc3715887eca28d37ea2f6b1785db80a54379a8caa81cd8d9dad\n",
      "  Stored in directory: c:\\users\\carlk\\appdata\\local\\pip\\cache\\wheels\\9b\\9b\\56\\5713233cf7226423ab6c58c08081551a301b5863e343ba053c\n",
      "Successfully built pyknow frozendict\n",
      "Installing collected packages: schema, frozendict, pyknow\n",
      "Successfully installed frozendict-1.2 pyknow-1.7.0 schema-0.6.7\n"
     ]
    }
   ],
   "source": [
    "import sys\n",
    "!{sys.executable} -m pip install git+https://github.com/buguroo/pyknow/"
   ]
  },
  {
   "cell_type": "code",
   "execution_count": 5,
   "metadata": {},
   "outputs": [],
   "source": [
    "from pyknow import *\n",
    "#import pyknow"
   ]
  },
  {
   "cell_type": "code",
   "execution_count": 12,
   "metadata": {},
   "outputs": [],
   "source": [
    "class Animals(KnowledgeEngine):\n",
    "    @Rule(OR(\n",
    "           AND(Fact('sharp teeth'),Fact('claws'),Fact('forward looking eyes')),\n",
    "           Fact('eats meat')))\n",
    "    def carnivore(self):\n",
    "        self.declare(Fact('carnivore'))\n",
    "\n",
    "    @Rule(OR(Fact('hair'),Fact('gives milk')))\n",
    "    def mammal(self):\n",
    "        self.declare(Fact('mammal'))\n",
    "\n",
    "    @Rule(Fact('mammal'),\n",
    "          OR(Fact('has hooves'),Fact('chews cud')))\n",
    "    def hooves(self):\n",
    "        self.declare('ungulate')\n",
    "\n",
    "    @Rule(OR(Fact('feathers'),AND(Fact('flies'),Fact('lays eggs'))))\n",
    "    def bird(self):\n",
    "        self.declare('bird')\n",
    "\n",
    "    @Rule(Fact('mammal'),Fact('carnivore'),\n",
    "          Fact(color='red-brown'),\n",
    "          Fact(pattern='dark spots'))\n",
    "    def monkey(self):\n",
    "        self.declare(Fact(animal='monkey'))\n",
    "\n",
    "    @Rule(Fact('mammal'),Fact('carnivore'),\n",
    "          Fact(color='red-brown'),\n",
    "          Fact(pattern='dark stripes'))\n",
    "    def tiger(self):\n",
    "        self.declare(Fact(animal='tiger'))\n",
    "\n",
    "    @Rule(Fact('ungulate'),\n",
    "          Fact('long neck'),\n",
    "          Fact('long legs'),\n",
    "          Fact(pattern='dark spots'))\n",
    "    def giraffe(self):\n",
    "        self.declare(Fact(animal='giraffe'))\n",
    "\n",
    "    @Rule(Fact('ungulate'),\n",
    "          Fact(pattern='dark stripes'))\n",
    "    def zebra(self):\n",
    "        self.declare(Fact(animal='zebra'))\n",
    "\n",
    "    @Rule(Fact('bird'),\n",
    "          Fact('long neck'),\n",
    "          Fact('cannot fly'),\n",
    "          Fact(color='black and white'))\n",
    "    def straus(self):\n",
    "        self.declare(Fact(animal='ostrich'))\n",
    "\n",
    "    @Rule(Fact('bird'),\n",
    "          Fact('swims'),\n",
    "          Fact('cannot fly'),\n",
    "          Fact(color='black and white'))\n",
    "    def pinguin(self):\n",
    "        self.declare(Fact(animal='penguin'))\n",
    "\n",
    "    @Rule(Fact('bird'),\n",
    "          Fact('flies well'))\n",
    "    def albatros(self):\n",
    "        self.declare(Fact(animal='albatross'))\n",
    "\n",
    "    @Rule(Fact(animal=MATCH.a))\n",
    "    def print_result(self,a):\n",
    "          print('Animal is {}'.format(a))\n",
    "\n",
    "    def factz(self,l):\n",
    "        for x in l:\n",
    "            self.declare(x)"
   ]
  },
  {
   "cell_type": "code",
   "execution_count": 13,
   "metadata": {},
   "outputs": [
    {
     "name": "stdout",
     "output_type": "stream",
     "text": [
      "Animal is tiger\n"
     ]
    },
    {
     "data": {
      "text/plain": [
       "FactList([(0, InitialFact()),\n",
       "          (1, Fact(color='red-brown')),\n",
       "          (2, Fact(pattern='dark stripes')),\n",
       "          (3, Fact('sharp teeth')),\n",
       "          (4, Fact('claws')),\n",
       "          (5, Fact('forward looking eyes')),\n",
       "          (6, Fact('gives milk')),\n",
       "          (7, Fact('mammal')),\n",
       "          (8, Fact('carnivore')),\n",
       "          (9, Fact(animal='tiger'))])"
      ]
     },
     "execution_count": 13,
     "metadata": {},
     "output_type": "execute_result"
    }
   ],
   "source": [
    "ex1 = Animals()\n",
    "ex1.reset()\n",
    "ex1.factz([\n",
    "    Fact(color='red-brown'),\n",
    "    Fact(pattern='dark stripes'),\n",
    "    Fact('sharp teeth'),\n",
    "    Fact('claws'),\n",
    "    Fact('forward looking eyes'),\n",
    "    Fact('gives milk')])\n",
    "ex1.run()\n",
    "ex1.facts"
   ]
  }
 ],
 "metadata": {
  "kernelspec": {
   "display_name": "Python 3",
   "language": "python",
   "name": "python3"
  },
  "language_info": {
   "codemirror_mode": {
    "name": "ipython",
    "version": 3
   },
   "file_extension": ".py",
   "mimetype": "text/x-python",
   "name": "python",
   "nbconvert_exporter": "python",
   "pygments_lexer": "ipython3",
   "version": "3.8.12"
  }
 },
 "nbformat": 4,
 "nbformat_minor": 2
}
