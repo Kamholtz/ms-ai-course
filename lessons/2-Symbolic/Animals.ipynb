{
 "cells": [
  {
   "cell_type": "code",
   "execution_count": 22,
   "metadata": {},
   "outputs": [],
   "source": [
    "def test_has_choice_with_length_gt_1(choices):\n",
    "    return max([len(x) for x in choices]) > 1\n",
    "\n",
    "def print_choices_with_number(choices):\n",
    "    for i, x in enumerate(choices):\n",
    "        print(\"{0}. {1}\".format(i, x), flush=True)\n",
    "\n",
    "def ask_for_int():\n",
    "    int(input())\n",
    "\n",
    "def ask_for_char(): input()\n",
    "\n",
    "class Ask():\n",
    "    def __init__(self, choices=['y', 'n']):\n",
    "        self.choices = choices\n",
    "    def ask(self):\n",
    "        if test_has_choice_with_length_gt_1(self.choices):\n",
    "            print_choices_with_number()\n",
    "            ask_res = ask_for_int()\n",
    "            return self.choices[ask_res]\n",
    "        else:\n",
    "            print(\"/\".join(self.choices), flush=True)\n",
    "            return ask_for_char\n",
    "\n",
    "\n",
    "class Content():\n",
    "    def __init__(self,x):\n",
    "        self.x = x\n",
    "\n",
    "class If(Content):\n",
    "    pass\n",
    "\n",
    "class AND(Content):\n",
    "    pass\n",
    "\n",
    "class OR(Content):\n",
    "    pass"
   ]
  },
  {
   "cell_type": "code",
   "execution_count": 23,
   "metadata": {},
   "outputs": [
    {
     "name": "stderr",
     "output_type": "stream",
     "text": [
      "test_has_choice_with_length_gt_1 (__main__.TestAsk) ... ok\n",
      "test_has_choice_with_length_gt_1_false (__main__.TestAsk) ... ok\n",
      "\n",
      "----------------------------------------------------------------------\n",
      "Ran 2 tests in 0.003s\n",
      "\n",
      "OK\n"
     ]
    },
    {
     "data": {
      "text/plain": [
       "<unittest.main.TestProgram at 0x29ca4cdb610>"
      ]
     },
     "execution_count": 23,
     "metadata": {},
     "output_type": "execute_result"
    }
   ],
   "source": [
    "import unittest\n",
    "\n",
    "class TestAsk(unittest.TestCase):\n",
    "    def test_has_choice_with_length_gt_1(self):\n",
    "        self.assertEqual(test_has_choice_with_length_gt_1(['abc', 'def']), True)\n",
    "\n",
    "    def test_has_choice_with_length_gt_1_false(self):\n",
    "        self.assertEqual(test_has_choice_with_length_gt_1(['y', 'n']), False)\n",
    "\n",
    "unittest.main(argv=[''], verbosity=2, exit=False)"
   ]
  },
  {
   "cell_type": "code",
   "execution_count": 24,
   "metadata": {},
   "outputs": [],
   "source": [
    "rules = {\n",
    "    'default': Ask(['y','n']),\n",
    "    'color' : Ask(['red-brown','black and white','other']),\n",
    "    'pattern' : Ask(['dark stripes','dark spots']),\n",
    "    'mammal': If(OR(['hair','gives milk'])),\n",
    "    'carnivor': If(OR([AND(['sharp teeth','claws','forward-looking eyes']),'eats meat'])),\n",
    "    'ungulate': If(['mammal',OR(['has hooves','chews cud'])]),\n",
    "    'bird': If(OR(['feathers',AND(['flies','lies eggs'])])),\n",
    "    'animal:monkey' : If(['mammal','carnivor','color:red-brown','pattern:dark spots']),\n",
    "    'animal:tiger' : If(['mammal','carnivor','color:red-brown','pattern:dark stripes']),\n",
    "    'animal:giraffe' : If(['ungulate','long neck','long legs','pattern:dark spots']),\n",
    "    'animal:zebra' : If(['ungulate','pattern:dark stripes']),\n",
    "    'animal:ostrich' : If(['bird','long nech','color:black and white','cannot fly']),\n",
    "    'animal:pinguin' : If(['bird','swims','color:black and white','cannot fly']),\n",
    "    'animal:albatross' : If(['bird','flies well'])\n",
    "}"
   ]
  },
  {
   "cell_type": "code",
   "execution_count": 25,
   "metadata": {},
   "outputs": [
    {
     "ename": "SyntaxError",
     "evalue": "expected ':' (394277213.py, line 7)",
     "output_type": "error",
     "traceback": [
      "\u001b[1;36m  Input \u001b[1;32mIn [25]\u001b[1;36m\u001b[0m\n\u001b[1;33m    if ':'\u001b[0m\n\u001b[1;37m          ^\u001b[0m\n\u001b[1;31mSyntaxError\u001b[0m\u001b[1;31m:\u001b[0m expected ':'\n"
     ]
    }
   ],
   "source": [
    "class KnowledgeBase():\n",
    "    def __init__(self, rules):\n",
    "        self.rules = rules\n",
    "        self.memory = {}\n",
    "\n",
    "    def get(self, name):\n",
    "        if ':'\n",
    "\n",
    "\n",
    "\n",
    "\n",
    "\n",
    "\n",
    "\n",
    "\n",
    "\n",
    "\n",
    "\n",
    "\n",
    "\n",
    "\n",
    "\n",
    "\n",
    "\n",
    "\n",
    "\n",
    "\n",
    "\n",
    "\n",
    "\n",
    "\n",
    "\n",
    "\n",
    "\n",
    "\n",
    "\n"
   ]
  }
 ],
 "metadata": {
  "kernelspec": {
   "display_name": "Python 3",
   "language": "python",
   "name": "python3"
  },
  "language_info": {
   "codemirror_mode": {
    "name": "ipython",
    "version": 3
   },
   "file_extension": ".py",
   "mimetype": "text/x-python",
   "name": "python",
   "nbconvert_exporter": "python",
   "pygments_lexer": "ipython3",
   "version": "3.10.4"
  }
 },
 "nbformat": 4,
 "nbformat_minor": 2
}
